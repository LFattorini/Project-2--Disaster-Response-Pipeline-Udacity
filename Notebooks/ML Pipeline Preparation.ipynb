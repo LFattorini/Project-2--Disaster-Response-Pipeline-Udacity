{
 "cells": [
  {
   "cell_type": "markdown",
   "metadata": {},
   "source": [
    "# ML Pipeline Preparation\n",
    "Follow the instructions below to help you create your ML pipeline.\n",
    "### 1. Import libraries and load data from database.\n",
    "- Import Python libraries\n",
    "- Load dataset from database with [`read_sql_table`](https://pandas.pydata.org/pandas-docs/stable/generated/pandas.read_sql_table.html)\n",
    "- Define feature and target variables X and Y"
   ]
  },
  {
   "cell_type": "code",
   "execution_count": 1,
   "metadata": {},
   "outputs": [
    {
     "name": "stdout",
     "output_type": "stream",
     "text": [
      "Requirement already satisfied: nltk in /Users/loredanafattorini/miniforge3/lib/python3.9/site-packages (3.6.2)\n",
      "Requirement already satisfied: click in /Users/loredanafattorini/miniforge3/lib/python3.9/site-packages (from nltk) (7.1.2)\n",
      "Requirement already satisfied: joblib in /Users/loredanafattorini/miniforge3/lib/python3.9/site-packages (from nltk) (1.0.1)\n",
      "Requirement already satisfied: regex in /Users/loredanafattorini/miniforge3/lib/python3.9/site-packages (from nltk) (2021.8.27)\n",
      "Requirement already satisfied: tqdm in /Users/loredanafattorini/miniforge3/lib/python3.9/site-packages (from nltk) (4.62.2)\n",
      "Requirement already satisfied: plotly in /Users/loredanafattorini/miniforge3/lib/python3.9/site-packages (5.2.2)\n",
      "Requirement already satisfied: tenacity>=6.2.0 in /Users/loredanafattorini/miniforge3/lib/python3.9/site-packages (from plotly) (8.0.1)\n",
      "Requirement already satisfied: six in /Users/loredanafattorini/miniforge3/lib/python3.9/site-packages (from plotly) (1.16.0)\n"
     ]
    }
   ],
   "source": [
    "!pip install nltk\n",
    "!pip install plotly"
   ]
  },
  {
   "cell_type": "code",
   "execution_count": 2,
   "metadata": {},
   "outputs": [
    {
     "name": "stderr",
     "output_type": "stream",
     "text": [
      "[nltk_data] Downloading package punkt to\n",
      "[nltk_data]     /Users/loredanafattorini/nltk_data...\n",
      "[nltk_data]   Package punkt is already up-to-date!\n",
      "[nltk_data] Downloading package wordnet to\n",
      "[nltk_data]     /Users/loredanafattorini/nltk_data...\n",
      "[nltk_data]   Package wordnet is already up-to-date!\n",
      "[nltk_data] Downloading package averaged_perceptron_tagger to\n",
      "[nltk_data]     /Users/loredanafattorini/nltk_data...\n",
      "[nltk_data]   Package averaged_perceptron_tagger is already up-to-\n",
      "[nltk_data]       date!\n"
     ]
    },
    {
     "data": {
      "text/plain": [
       "True"
      ]
     },
     "execution_count": 2,
     "metadata": {},
     "output_type": "execute_result"
    }
   ],
   "source": [
    "import nltk\n",
    "nltk.download('punkt')\n",
    "nltk.download('wordnet')\n",
    "nltk.download('averaged_perceptron_tagger')"
   ]
  },
  {
   "cell_type": "code",
   "execution_count": 3,
   "metadata": {},
   "outputs": [],
   "source": [
    "# import libraries\n",
    "from sqlalchemy import create_engine\n",
    "import re\n",
    "import pandas as pd\n",
    "import numpy as np\n",
    "from nltk.tokenize import word_tokenize\n",
    "from nltk.stem import WordNetLemmatizer\n",
    "\n",
    "from sklearn.pipeline import Pipeline, FeatureUnion\n",
    "from sklearn.model_selection import train_test_split\n",
    "from sklearn.metrics import classification_report\n",
    "from sklearn.metrics import confusion_matrix, accuracy_score\n",
    "from sklearn.metrics import fbeta_score, make_scorer\n",
    "from sklearn.ensemble import RandomForestClassifier\n",
    "from sklearn.model_selection import GridSearchCV\n",
    "from sklearn.feature_extraction.text import TfidfTransformer, CountVectorizer\n",
    "from sklearn.multioutput import MultiOutputClassifier\n",
    "from sklearn.base import BaseEstimator,TransformerMixin\n",
    "from sklearn.svm import LinearSVC\n",
    "\n",
    "import pickle\n",
    "import warnings\n",
    "warnings.filterwarnings('ignore') "
   ]
  },
  {
   "cell_type": "code",
   "execution_count": 4,
   "metadata": {},
   "outputs": [],
   "source": [
    "# load data from database\n",
    "database_filepath = 'disaster_response.db'\n",
    "engine = create_engine('sqlite:///' + database_filepath)\n",
    "table_name = database_filepath.replace(\".db\",\"\") + \"_table\"\n",
    "df = pd.read_sql_table(table_name, engine)"
   ]
  },
  {
   "cell_type": "code",
   "execution_count": 5,
   "metadata": {},
   "outputs": [
    {
     "data": {
      "text/html": [
       "<div>\n",
       "<style scoped>\n",
       "    .dataframe tbody tr th:only-of-type {\n",
       "        vertical-align: middle;\n",
       "    }\n",
       "\n",
       "    .dataframe tbody tr th {\n",
       "        vertical-align: top;\n",
       "    }\n",
       "\n",
       "    .dataframe thead th {\n",
       "        text-align: right;\n",
       "    }\n",
       "</style>\n",
       "<table border=\"1\" class=\"dataframe\">\n",
       "  <thead>\n",
       "    <tr style=\"text-align: right;\">\n",
       "      <th></th>\n",
       "      <th>id</th>\n",
       "      <th>message</th>\n",
       "      <th>original</th>\n",
       "      <th>genre</th>\n",
       "      <th>related</th>\n",
       "      <th>request</th>\n",
       "      <th>offer</th>\n",
       "      <th>aid_related</th>\n",
       "      <th>medical_help</th>\n",
       "      <th>medical_products</th>\n",
       "      <th>...</th>\n",
       "      <th>aid_centers</th>\n",
       "      <th>other_infrastructure</th>\n",
       "      <th>weather_related</th>\n",
       "      <th>floods</th>\n",
       "      <th>storm</th>\n",
       "      <th>fire</th>\n",
       "      <th>earthquake</th>\n",
       "      <th>cold</th>\n",
       "      <th>other_weather</th>\n",
       "      <th>direct_report</th>\n",
       "    </tr>\n",
       "  </thead>\n",
       "  <tbody>\n",
       "    <tr>\n",
       "      <th>0</th>\n",
       "      <td>2</td>\n",
       "      <td>Weather update - a cold front from Cuba that c...</td>\n",
       "      <td>Un front froid se retrouve sur Cuba ce matin. ...</td>\n",
       "      <td>direct</td>\n",
       "      <td>1</td>\n",
       "      <td>0</td>\n",
       "      <td>0</td>\n",
       "      <td>0</td>\n",
       "      <td>0</td>\n",
       "      <td>0</td>\n",
       "      <td>...</td>\n",
       "      <td>0</td>\n",
       "      <td>0</td>\n",
       "      <td>0</td>\n",
       "      <td>0</td>\n",
       "      <td>0</td>\n",
       "      <td>0</td>\n",
       "      <td>0</td>\n",
       "      <td>0</td>\n",
       "      <td>0</td>\n",
       "      <td>0</td>\n",
       "    </tr>\n",
       "    <tr>\n",
       "      <th>1</th>\n",
       "      <td>7</td>\n",
       "      <td>Is the Hurricane over or is it not over</td>\n",
       "      <td>Cyclone nan fini osinon li pa fini</td>\n",
       "      <td>direct</td>\n",
       "      <td>1</td>\n",
       "      <td>0</td>\n",
       "      <td>0</td>\n",
       "      <td>1</td>\n",
       "      <td>0</td>\n",
       "      <td>0</td>\n",
       "      <td>...</td>\n",
       "      <td>0</td>\n",
       "      <td>0</td>\n",
       "      <td>1</td>\n",
       "      <td>0</td>\n",
       "      <td>1</td>\n",
       "      <td>0</td>\n",
       "      <td>0</td>\n",
       "      <td>0</td>\n",
       "      <td>0</td>\n",
       "      <td>0</td>\n",
       "    </tr>\n",
       "    <tr>\n",
       "      <th>2</th>\n",
       "      <td>8</td>\n",
       "      <td>Looking for someone but no name</td>\n",
       "      <td>Patnm, di Maryani relem pou li banm nouvel li ...</td>\n",
       "      <td>direct</td>\n",
       "      <td>1</td>\n",
       "      <td>0</td>\n",
       "      <td>0</td>\n",
       "      <td>0</td>\n",
       "      <td>0</td>\n",
       "      <td>0</td>\n",
       "      <td>...</td>\n",
       "      <td>0</td>\n",
       "      <td>0</td>\n",
       "      <td>0</td>\n",
       "      <td>0</td>\n",
       "      <td>0</td>\n",
       "      <td>0</td>\n",
       "      <td>0</td>\n",
       "      <td>0</td>\n",
       "      <td>0</td>\n",
       "      <td>0</td>\n",
       "    </tr>\n",
       "    <tr>\n",
       "      <th>3</th>\n",
       "      <td>9</td>\n",
       "      <td>UN reports Leogane 80-90 destroyed. Only Hospi...</td>\n",
       "      <td>UN reports Leogane 80-90 destroyed. Only Hospi...</td>\n",
       "      <td>direct</td>\n",
       "      <td>1</td>\n",
       "      <td>1</td>\n",
       "      <td>0</td>\n",
       "      <td>1</td>\n",
       "      <td>0</td>\n",
       "      <td>1</td>\n",
       "      <td>...</td>\n",
       "      <td>0</td>\n",
       "      <td>0</td>\n",
       "      <td>0</td>\n",
       "      <td>0</td>\n",
       "      <td>0</td>\n",
       "      <td>0</td>\n",
       "      <td>0</td>\n",
       "      <td>0</td>\n",
       "      <td>0</td>\n",
       "      <td>0</td>\n",
       "    </tr>\n",
       "    <tr>\n",
       "      <th>4</th>\n",
       "      <td>12</td>\n",
       "      <td>says: west side of Haiti, rest of the country ...</td>\n",
       "      <td>facade ouest d Haiti et le reste du pays aujou...</td>\n",
       "      <td>direct</td>\n",
       "      <td>1</td>\n",
       "      <td>0</td>\n",
       "      <td>0</td>\n",
       "      <td>0</td>\n",
       "      <td>0</td>\n",
       "      <td>0</td>\n",
       "      <td>...</td>\n",
       "      <td>0</td>\n",
       "      <td>0</td>\n",
       "      <td>0</td>\n",
       "      <td>0</td>\n",
       "      <td>0</td>\n",
       "      <td>0</td>\n",
       "      <td>0</td>\n",
       "      <td>0</td>\n",
       "      <td>0</td>\n",
       "      <td>0</td>\n",
       "    </tr>\n",
       "  </tbody>\n",
       "</table>\n",
       "<p>5 rows × 39 columns</p>\n",
       "</div>"
      ],
      "text/plain": [
       "   id                                            message  \\\n",
       "0   2  Weather update - a cold front from Cuba that c...   \n",
       "1   7            Is the Hurricane over or is it not over   \n",
       "2   8                    Looking for someone but no name   \n",
       "3   9  UN reports Leogane 80-90 destroyed. Only Hospi...   \n",
       "4  12  says: west side of Haiti, rest of the country ...   \n",
       "\n",
       "                                            original   genre  related  \\\n",
       "0  Un front froid se retrouve sur Cuba ce matin. ...  direct        1   \n",
       "1                 Cyclone nan fini osinon li pa fini  direct        1   \n",
       "2  Patnm, di Maryani relem pou li banm nouvel li ...  direct        1   \n",
       "3  UN reports Leogane 80-90 destroyed. Only Hospi...  direct        1   \n",
       "4  facade ouest d Haiti et le reste du pays aujou...  direct        1   \n",
       "\n",
       "   request  offer  aid_related  medical_help  medical_products  ...  \\\n",
       "0        0      0            0             0                 0  ...   \n",
       "1        0      0            1             0                 0  ...   \n",
       "2        0      0            0             0                 0  ...   \n",
       "3        1      0            1             0                 1  ...   \n",
       "4        0      0            0             0                 0  ...   \n",
       "\n",
       "   aid_centers  other_infrastructure  weather_related  floods  storm  fire  \\\n",
       "0            0                     0                0       0      0     0   \n",
       "1            0                     0                1       0      1     0   \n",
       "2            0                     0                0       0      0     0   \n",
       "3            0                     0                0       0      0     0   \n",
       "4            0                     0                0       0      0     0   \n",
       "\n",
       "   earthquake  cold  other_weather  direct_report  \n",
       "0           0     0              0              0  \n",
       "1           0     0              0              0  \n",
       "2           0     0              0              0  \n",
       "3           0     0              0              0  \n",
       "4           0     0              0              0  \n",
       "\n",
       "[5 rows x 39 columns]"
      ]
     },
     "execution_count": 5,
     "metadata": {},
     "output_type": "execute_result"
    }
   ],
   "source": [
    "df.head()"
   ]
  },
  {
   "cell_type": "code",
   "execution_count": 6,
   "metadata": {},
   "outputs": [],
   "source": [
    "# Create X and y \n",
    "X = df['message']\n",
    "y = df.iloc[:,4:]"
   ]
  },
  {
   "cell_type": "code",
   "execution_count": 7,
   "metadata": {},
   "outputs": [],
   "source": [
    "category_names = df.iloc[:,4:].columns"
   ]
  },
  {
   "cell_type": "code",
   "execution_count": 8,
   "metadata": {},
   "outputs": [
    {
     "data": {
      "text/plain": [
       "Index(['related', 'request', 'offer', 'aid_related', 'medical_help',\n",
       "       'medical_products', 'search_and_rescue', 'security', 'military',\n",
       "       'water', 'food', 'shelter', 'clothing', 'money', 'missing_people',\n",
       "       'refugees', 'death', 'other_aid', 'infrastructure_related', 'transport',\n",
       "       'buildings', 'electricity', 'tools', 'hospitals', 'shops',\n",
       "       'aid_centers', 'other_infrastructure', 'weather_related', 'floods',\n",
       "       'storm', 'fire', 'earthquake', 'cold', 'other_weather',\n",
       "       'direct_report'],\n",
       "      dtype='object')"
      ]
     },
     "execution_count": 8,
     "metadata": {},
     "output_type": "execute_result"
    }
   ],
   "source": [
    "category_names"
   ]
  },
  {
   "cell_type": "code",
   "execution_count": 9,
   "metadata": {},
   "outputs": [],
   "source": [
    "category_boolean = (df.iloc[:,4:] != 0).sum().values"
   ]
  },
  {
   "cell_type": "code",
   "execution_count": 10,
   "metadata": {},
   "outputs": [
    {
     "data": {
      "text/plain": [
       "array([20094,  4474,   118, 10860,  2084,  1313,   724,   471,   860,\n",
       "        1672,  2923,  2314,   405,   604,   298,   875,  1194,  3446,\n",
       "        1705,  1201,  1333,   532,   159,   283,   120,   309,  1151,\n",
       "        7297,  2155,  2443,   282,  2455,   530,  1376,  5075])"
      ]
     },
     "execution_count": 10,
     "metadata": {},
     "output_type": "execute_result"
    }
   ],
   "source": [
    "category_boolean"
   ]
  },
  {
   "cell_type": "code",
   "execution_count": 11,
   "metadata": {},
   "outputs": [
    {
     "data": {
      "text/plain": [
       "news      13054\n",
       "direct    10766\n",
       "social     2396\n",
       "Name: genre, dtype: int64"
      ]
     },
     "execution_count": 11,
     "metadata": {},
     "output_type": "execute_result"
    }
   ],
   "source": [
    "df.genre.value_counts()"
   ]
  },
  {
   "cell_type": "markdown",
   "metadata": {},
   "source": [
    "### 2. Write a tokenization function to process your text data"
   ]
  },
  {
   "cell_type": "code",
   "execution_count": 12,
   "metadata": {},
   "outputs": [],
   "source": [
    "def tokenize(text):\n",
    "    \n",
    "    url_regex = r'http[s]?://(?:[a-zA-Z]|[0-9]|[$-_@.&+]|[!*\\(\\),]|(?:%[0-9a-fA-F][0-9a-fA-F]))+'\n",
    "    \n",
    "    # get list of all urls using regex\n",
    "    detected_urls = re.findall(url_regex, text)\n",
    "    \n",
    "    # replace each url in text string with placeholder\n",
    "    for url in detected_urls:\n",
    "        text = text.replace(url,'urlplaceholder')\n",
    "\n",
    "    # tokenize text\n",
    "    tokens = word_tokenize(text)\n",
    "    \n",
    "    # initiate lemmatizer\n",
    "    lemmatizer = WordNetLemmatizer()\n",
    "\n",
    "    # iterate through each token\n",
    "    clean_tokens = []\n",
    "    for tok in tokens:\n",
    "        # lemmatize, normalize case, and remove leading/trailing white space\n",
    "        clean_tok = lemmatizer.lemmatize(tok).lower().strip()\n",
    "        clean_tokens.append(clean_tok)\n",
    "\n",
    "    return clean_tokens"
   ]
  },
  {
   "cell_type": "code",
   "execution_count": 13,
   "metadata": {},
   "outputs": [],
   "source": [
    "# Build a custom transformer which extracts the starting verb of a sentence\n",
    "class StartingVerbExtractor(BaseEstimator, TransformerMixin):\n",
    "    \"\"\"\n",
    "    Starting Verb Extractor class\n",
    "    \n",
    "    This class extract the starting verb of a sentence,\n",
    "    creating a new feature for the ML classifier\n",
    "    \"\"\"\n",
    "\n",
    "    def starting_verb(self, text):\n",
    "        sentence_list = nltk.sent_tokenize(text)\n",
    "        for sentence in sentence_list:\n",
    "            pos_tags = nltk.pos_tag(tokenize(sentence))\n",
    "            first_word, first_tag = pos_tags[0]\n",
    "            if first_tag in ['VB', 'VBP'] or first_word == 'RT':\n",
    "                return True\n",
    "        return False\n",
    "\n",
    "    # Given it is a tranformer we can return the self \n",
    "    def fit(self, X, y=None):\n",
    "        return self\n",
    "\n",
    "    def transform(self, X):\n",
    "        X_tagged = pd.Series(X).apply(self.starting_verb)\n",
    "        return pd.DataFrame(X_tagged)"
   ]
  },
  {
   "cell_type": "markdown",
   "metadata": {},
   "source": [
    "### 3. Build a machine learning pipeline\n",
    "This machine pipeline should take in the `message` column as input and output classification results on the other 36 categories in the dataset. You may find the [MultiOutputClassifier](http://scikit-learn.org/stable/modules/generated/sklearn.multioutput.MultiOutputClassifier.html) helpful for predicting multiple target variables."
   ]
  },
  {
   "cell_type": "code",
   "execution_count": 14,
   "metadata": {},
   "outputs": [],
   "source": [
    "# Pipeline1 uses Linear Support Vector Machines Classifier\n",
    "pipeline1 = Pipeline([\n",
    "        ('vect', CountVectorizer(tokenizer=tokenize)),\n",
    "        ('tfidf', TfidfTransformer()),\n",
    "        ('clf1',  MultiOutputClassifier(estimator=LinearSVC(max_iter=100000, random_state=42))) \n",
    "    ])"
   ]
  },
  {
   "cell_type": "code",
   "execution_count": 15,
   "metadata": {},
   "outputs": [],
   "source": [
    "# Pipeline2 uses Linear Support Vector Machines Classifier along with a custom made transformer (StartingVerbExtractor)\n",
    "pipeline2 = Pipeline([\n",
    "        ('features', FeatureUnion([\n",
    "\n",
    "            ('text_pipeline', Pipeline([\n",
    "                ('vect', CountVectorizer(tokenizer=tokenize)),\n",
    "                ('tfidf', TfidfTransformer())\n",
    "            ])),\n",
    "\n",
    "            ('starting_verb_transformer', StartingVerbExtractor())\n",
    "        ])),\n",
    "\n",
    "        ('clf2', MultiOutputClassifier(estimator=LinearSVC(max_iter=100000, random_state=42)))\n",
    "    ])"
   ]
  },
  {
   "cell_type": "code",
   "execution_count": 16,
   "metadata": {},
   "outputs": [],
   "source": [
    "# Pipeline2 uses Random Forest Classifier\n",
    "pipeline3 = Pipeline([\n",
    "         ('vect', CountVectorizer(tokenizer=tokenize)),\n",
    "         ('tfidf', TfidfTransformer()),\n",
    "         ('clf3',  MultiOutputClassifier(RandomForestClassifier(random_state=42)))\n",
    "     ])"
   ]
  },
  {
   "cell_type": "markdown",
   "metadata": {},
   "source": [
    "### 4. Train pipeline\n",
    "- Split data into train and test sets\n",
    "- Train pipeline"
   ]
  },
  {
   "cell_type": "code",
   "execution_count": 17,
   "metadata": {},
   "outputs": [
    {
     "data": {
      "text/html": [
       "<div>\n",
       "<style scoped>\n",
       "    .dataframe tbody tr th:only-of-type {\n",
       "        vertical-align: middle;\n",
       "    }\n",
       "\n",
       "    .dataframe tbody tr th {\n",
       "        vertical-align: top;\n",
       "    }\n",
       "\n",
       "    .dataframe thead th {\n",
       "        text-align: right;\n",
       "    }\n",
       "</style>\n",
       "<table border=\"1\" class=\"dataframe\">\n",
       "  <thead>\n",
       "    <tr style=\"text-align: right;\">\n",
       "      <th></th>\n",
       "      <th>id</th>\n",
       "      <th>message</th>\n",
       "      <th>original</th>\n",
       "      <th>genre</th>\n",
       "      <th>related</th>\n",
       "      <th>request</th>\n",
       "      <th>offer</th>\n",
       "      <th>aid_related</th>\n",
       "      <th>medical_help</th>\n",
       "      <th>medical_products</th>\n",
       "      <th>...</th>\n",
       "      <th>aid_centers</th>\n",
       "      <th>other_infrastructure</th>\n",
       "      <th>weather_related</th>\n",
       "      <th>floods</th>\n",
       "      <th>storm</th>\n",
       "      <th>fire</th>\n",
       "      <th>earthquake</th>\n",
       "      <th>cold</th>\n",
       "      <th>other_weather</th>\n",
       "      <th>direct_report</th>\n",
       "    </tr>\n",
       "  </thead>\n",
       "  <tbody>\n",
       "    <tr>\n",
       "      <th>0</th>\n",
       "      <td>2</td>\n",
       "      <td>Weather update - a cold front from Cuba that c...</td>\n",
       "      <td>Un front froid se retrouve sur Cuba ce matin. ...</td>\n",
       "      <td>direct</td>\n",
       "      <td>1</td>\n",
       "      <td>0</td>\n",
       "      <td>0</td>\n",
       "      <td>0</td>\n",
       "      <td>0</td>\n",
       "      <td>0</td>\n",
       "      <td>...</td>\n",
       "      <td>0</td>\n",
       "      <td>0</td>\n",
       "      <td>0</td>\n",
       "      <td>0</td>\n",
       "      <td>0</td>\n",
       "      <td>0</td>\n",
       "      <td>0</td>\n",
       "      <td>0</td>\n",
       "      <td>0</td>\n",
       "      <td>0</td>\n",
       "    </tr>\n",
       "    <tr>\n",
       "      <th>1</th>\n",
       "      <td>7</td>\n",
       "      <td>Is the Hurricane over or is it not over</td>\n",
       "      <td>Cyclone nan fini osinon li pa fini</td>\n",
       "      <td>direct</td>\n",
       "      <td>1</td>\n",
       "      <td>0</td>\n",
       "      <td>0</td>\n",
       "      <td>1</td>\n",
       "      <td>0</td>\n",
       "      <td>0</td>\n",
       "      <td>...</td>\n",
       "      <td>0</td>\n",
       "      <td>0</td>\n",
       "      <td>1</td>\n",
       "      <td>0</td>\n",
       "      <td>1</td>\n",
       "      <td>0</td>\n",
       "      <td>0</td>\n",
       "      <td>0</td>\n",
       "      <td>0</td>\n",
       "      <td>0</td>\n",
       "    </tr>\n",
       "    <tr>\n",
       "      <th>2</th>\n",
       "      <td>8</td>\n",
       "      <td>Looking for someone but no name</td>\n",
       "      <td>Patnm, di Maryani relem pou li banm nouvel li ...</td>\n",
       "      <td>direct</td>\n",
       "      <td>1</td>\n",
       "      <td>0</td>\n",
       "      <td>0</td>\n",
       "      <td>0</td>\n",
       "      <td>0</td>\n",
       "      <td>0</td>\n",
       "      <td>...</td>\n",
       "      <td>0</td>\n",
       "      <td>0</td>\n",
       "      <td>0</td>\n",
       "      <td>0</td>\n",
       "      <td>0</td>\n",
       "      <td>0</td>\n",
       "      <td>0</td>\n",
       "      <td>0</td>\n",
       "      <td>0</td>\n",
       "      <td>0</td>\n",
       "    </tr>\n",
       "    <tr>\n",
       "      <th>3</th>\n",
       "      <td>9</td>\n",
       "      <td>UN reports Leogane 80-90 destroyed. Only Hospi...</td>\n",
       "      <td>UN reports Leogane 80-90 destroyed. Only Hospi...</td>\n",
       "      <td>direct</td>\n",
       "      <td>1</td>\n",
       "      <td>1</td>\n",
       "      <td>0</td>\n",
       "      <td>1</td>\n",
       "      <td>0</td>\n",
       "      <td>1</td>\n",
       "      <td>...</td>\n",
       "      <td>0</td>\n",
       "      <td>0</td>\n",
       "      <td>0</td>\n",
       "      <td>0</td>\n",
       "      <td>0</td>\n",
       "      <td>0</td>\n",
       "      <td>0</td>\n",
       "      <td>0</td>\n",
       "      <td>0</td>\n",
       "      <td>0</td>\n",
       "    </tr>\n",
       "    <tr>\n",
       "      <th>4</th>\n",
       "      <td>12</td>\n",
       "      <td>says: west side of Haiti, rest of the country ...</td>\n",
       "      <td>facade ouest d Haiti et le reste du pays aujou...</td>\n",
       "      <td>direct</td>\n",
       "      <td>1</td>\n",
       "      <td>0</td>\n",
       "      <td>0</td>\n",
       "      <td>0</td>\n",
       "      <td>0</td>\n",
       "      <td>0</td>\n",
       "      <td>...</td>\n",
       "      <td>0</td>\n",
       "      <td>0</td>\n",
       "      <td>0</td>\n",
       "      <td>0</td>\n",
       "      <td>0</td>\n",
       "      <td>0</td>\n",
       "      <td>0</td>\n",
       "      <td>0</td>\n",
       "      <td>0</td>\n",
       "      <td>0</td>\n",
       "    </tr>\n",
       "  </tbody>\n",
       "</table>\n",
       "<p>5 rows × 39 columns</p>\n",
       "</div>"
      ],
      "text/plain": [
       "   id                                            message  \\\n",
       "0   2  Weather update - a cold front from Cuba that c...   \n",
       "1   7            Is the Hurricane over or is it not over   \n",
       "2   8                    Looking for someone but no name   \n",
       "3   9  UN reports Leogane 80-90 destroyed. Only Hospi...   \n",
       "4  12  says: west side of Haiti, rest of the country ...   \n",
       "\n",
       "                                            original   genre  related  \\\n",
       "0  Un front froid se retrouve sur Cuba ce matin. ...  direct        1   \n",
       "1                 Cyclone nan fini osinon li pa fini  direct        1   \n",
       "2  Patnm, di Maryani relem pou li banm nouvel li ...  direct        1   \n",
       "3  UN reports Leogane 80-90 destroyed. Only Hospi...  direct        1   \n",
       "4  facade ouest d Haiti et le reste du pays aujou...  direct        1   \n",
       "\n",
       "   request  offer  aid_related  medical_help  medical_products  ...  \\\n",
       "0        0      0            0             0                 0  ...   \n",
       "1        0      0            1             0                 0  ...   \n",
       "2        0      0            0             0                 0  ...   \n",
       "3        1      0            1             0                 1  ...   \n",
       "4        0      0            0             0                 0  ...   \n",
       "\n",
       "   aid_centers  other_infrastructure  weather_related  floods  storm  fire  \\\n",
       "0            0                     0                0       0      0     0   \n",
       "1            0                     0                1       0      1     0   \n",
       "2            0                     0                0       0      0     0   \n",
       "3            0                     0                0       0      0     0   \n",
       "4            0                     0                0       0      0     0   \n",
       "\n",
       "   earthquake  cold  other_weather  direct_report  \n",
       "0           0     0              0              0  \n",
       "1           0     0              0              0  \n",
       "2           0     0              0              0  \n",
       "3           0     0              0              0  \n",
       "4           0     0              0              0  \n",
       "\n",
       "[5 rows x 39 columns]"
      ]
     },
     "execution_count": 17,
     "metadata": {},
     "output_type": "execute_result"
    }
   ],
   "source": [
    "df.head()"
   ]
  },
  {
   "cell_type": "code",
   "execution_count": 18,
   "metadata": {},
   "outputs": [
    {
     "data": {
      "text/plain": [
       "Pipeline(steps=[('vect',\n",
       "                 CountVectorizer(tokenizer=<function tokenize at 0x2844f9790>)),\n",
       "                ('tfidf', TfidfTransformer()),\n",
       "                ('clf1',\n",
       "                 MultiOutputClassifier(estimator=LinearSVC(max_iter=100000,\n",
       "                                                           random_state=42)))])"
      ]
     },
     "execution_count": 18,
     "metadata": {},
     "output_type": "execute_result"
    }
   ],
   "source": [
    "X_train, X_test, y_train, y_test = train_test_split(X, y)\n",
    "\n",
    "pipeline1.fit(X_train, y_train)"
   ]
  },
  {
   "cell_type": "markdown",
   "metadata": {},
   "source": [
    "### 5. Test your model\n",
    "Report the f1 score, precision and recall for each output category of the dataset. You can do this by iterating through the columns and calling sklearn's `classification_report` on each."
   ]
  },
  {
   "cell_type": "code",
   "execution_count": 19,
   "metadata": {},
   "outputs": [
    {
     "name": "stdout",
     "output_type": "stream",
     "text": [
      "The training accuracy is: \n",
      "71.62038449801648\n",
      " \n",
      "The test accuracy is: \n",
      "29.95117485505035\n",
      " \n",
      "Classification report\n",
      "                        precision    recall  f1-score   support\n",
      "\n",
      "               related       0.86      0.91      0.89      5023\n",
      "               request       0.77      0.63      0.69      1118\n",
      "                 offer       0.00      0.00      0.00        26\n",
      "           aid_related       0.74      0.70      0.72      2752\n",
      "          medical_help       0.58      0.28      0.38       505\n",
      "      medical_products       0.62      0.25      0.36       346\n",
      "     search_and_rescue       0.71      0.22      0.33       179\n",
      "              security       0.25      0.01      0.02       112\n",
      "              military       0.56      0.28      0.37       218\n",
      "                 water       0.78      0.62      0.69       463\n",
      "                  food       0.82      0.72      0.77       749\n",
      "               shelter       0.78      0.55      0.64       591\n",
      "              clothing       0.76      0.30      0.43        98\n",
      "                 money       0.62      0.20      0.30       159\n",
      "        missing_people       0.82      0.11      0.19        82\n",
      "              refugees       0.55      0.21      0.30       203\n",
      "                 death       0.81      0.52      0.63       301\n",
      "             other_aid       0.45      0.21      0.28       851\n",
      "infrastructure_related       0.39      0.10      0.16       429\n",
      "             transport       0.70      0.22      0.34       312\n",
      "             buildings       0.63      0.39      0.48       339\n",
      "           electricity       0.57      0.23      0.33       116\n",
      "                 tools       0.00      0.00      0.00        32\n",
      "             hospitals       0.00      0.00      0.00        64\n",
      "                 shops       0.00      0.00      0.00        33\n",
      "           aid_centers       0.25      0.01      0.03        70\n",
      "  other_infrastructure       0.32      0.05      0.09       304\n",
      "       weather_related       0.81      0.75      0.78      1797\n",
      "                floods       0.87      0.55      0.68       516\n",
      "                 storm       0.76      0.60      0.67       604\n",
      "                  fire       0.57      0.21      0.31        56\n",
      "            earthquake       0.90      0.75      0.82       635\n",
      "                  cold       0.72      0.36      0.49       137\n",
      "         other_weather       0.53      0.18      0.27       343\n",
      "         direct_report       0.68      0.54      0.60      1260\n",
      "\n",
      "             micro avg       0.78      0.61      0.68     20823\n",
      "             macro avg       0.58      0.33      0.40     20823\n",
      "          weighted avg       0.74      0.61      0.65     20823\n",
      "           samples avg       0.61      0.52      0.52     20823\n",
      "\n"
     ]
    }
   ],
   "source": [
    "y_pred = pipeline1.predict(X_test)\n",
    "\n",
    "# Training accuracy\n",
    "print(\"The training accuracy is: \")\n",
    "print(accuracy_score(y_train, pipeline1.predict(X_train))*100)\n",
    "print(\" \")\n",
    "\n",
    "# Test accuracy\n",
    "print(\"The test accuracy is: \")\n",
    "print(accuracy_score(y_test, y_pred)*100)\n",
    "print(\" \")\n",
    "\n",
    "# Classification report\n",
    "print(\"Classification report\")\n",
    "print(classification_report(y_test, y_pred, target_names=y.columns.values))"
   ]
  },
  {
   "cell_type": "code",
   "execution_count": 20,
   "metadata": {},
   "outputs": [
    {
     "data": {
      "text/plain": [
       "dict_keys(['memory', 'steps', 'verbose', 'vect', 'tfidf', 'clf1', 'vect__analyzer', 'vect__binary', 'vect__decode_error', 'vect__dtype', 'vect__encoding', 'vect__input', 'vect__lowercase', 'vect__max_df', 'vect__max_features', 'vect__min_df', 'vect__ngram_range', 'vect__preprocessor', 'vect__stop_words', 'vect__strip_accents', 'vect__token_pattern', 'vect__tokenizer', 'vect__vocabulary', 'tfidf__norm', 'tfidf__smooth_idf', 'tfidf__sublinear_tf', 'tfidf__use_idf', 'clf1__estimator__C', 'clf1__estimator__class_weight', 'clf1__estimator__dual', 'clf1__estimator__fit_intercept', 'clf1__estimator__intercept_scaling', 'clf1__estimator__loss', 'clf1__estimator__max_iter', 'clf1__estimator__multi_class', 'clf1__estimator__penalty', 'clf1__estimator__random_state', 'clf1__estimator__tol', 'clf1__estimator__verbose', 'clf1__estimator', 'clf1__n_jobs'])"
      ]
     },
     "execution_count": 20,
     "metadata": {},
     "output_type": "execute_result"
    }
   ],
   "source": [
    "pipeline1.get_params().keys()"
   ]
  },
  {
   "cell_type": "markdown",
   "metadata": {},
   "source": [
    "### 6. Improve your model\n",
    "Use grid search to find better parameters. "
   ]
  },
  {
   "cell_type": "code",
   "execution_count": 21,
   "metadata": {},
   "outputs": [
    {
     "data": {
      "text/plain": [
       "GridSearchCV(estimator=Pipeline(steps=[('vect',\n",
       "                                        CountVectorizer(tokenizer=<function tokenize at 0x2844f9790>)),\n",
       "                                       ('tfidf', TfidfTransformer()),\n",
       "                                       ('clf1',\n",
       "                                        MultiOutputClassifier(estimator=LinearSVC(max_iter=100000,\n",
       "                                                                                  random_state=42)))]),\n",
       "             n_jobs=-1,\n",
       "             param_grid={'clf1__estimator__C': [0.1, 1, 10, 100],\n",
       "                         'clf1__estimator__class_weight': ['balanced', None]})"
      ]
     },
     "execution_count": 21,
     "metadata": {},
     "output_type": "execute_result"
    }
   ],
   "source": [
    "parameters = {'clf1__estimator__C': [0.1, 1, 10, 100],\n",
    "             'clf1__estimator__class_weight':['balanced', None]\n",
    "             }\n",
    "\n",
    "cv = GridSearchCV(pipeline1, param_grid=parameters, n_jobs=-1)\n",
    "cv.fit(X_train, y_train)"
   ]
  },
  {
   "cell_type": "code",
   "execution_count": 22,
   "metadata": {},
   "outputs": [
    {
     "name": "stdout",
     "output_type": "stream",
     "text": [
      "The best hyperparameters from Grid Search are:\n",
      "{'clf1__estimator__C': 1, 'clf1__estimator__class_weight': None}\n",
      "\n",
      "The mean accuracy of a model with these hyperparameters is:\n",
      "0.28486418879403974\n"
     ]
    }
   ],
   "source": [
    "print(\"The best hyperparameters from Grid Search are:\")\n",
    "print(cv.best_params_)\n",
    "print(\"\")\n",
    "print(\"The mean accuracy of a model with these hyperparameters is:\")\n",
    "print(cv.best_score_)"
   ]
  },
  {
   "cell_type": "code",
   "execution_count": 23,
   "metadata": {},
   "outputs": [],
   "source": [
    "best_tuned_clf = cv.best_estimator_"
   ]
  },
  {
   "cell_type": "code",
   "execution_count": 24,
   "metadata": {},
   "outputs": [
    {
     "data": {
      "text/plain": [
       "Pipeline(steps=[('vect',\n",
       "                 CountVectorizer(tokenizer=<function tokenize at 0x2844f9790>)),\n",
       "                ('tfidf', TfidfTransformer()),\n",
       "                ('clf1',\n",
       "                 MultiOutputClassifier(estimator=LinearSVC(C=1, max_iter=100000,\n",
       "                                                           random_state=42)))])"
      ]
     },
     "execution_count": 24,
     "metadata": {},
     "output_type": "execute_result"
    }
   ],
   "source": [
    "best_tuned_clf.fit(X_train, y_train)"
   ]
  },
  {
   "cell_type": "code",
   "execution_count": 25,
   "metadata": {},
   "outputs": [],
   "source": [
    "y_pred_tuned = best_tuned_clf.predict(X_test)"
   ]
  },
  {
   "cell_type": "markdown",
   "metadata": {},
   "source": [
    "### 7. Test your model\n",
    "Show the accuracy, precision, and recall of the tuned model.  \n",
    "\n",
    "Since this project focuses on code quality, process, and  pipelines, there is no minimum performance metric needed to pass. However, make sure to fine tune your models for accuracy, precision and recall to make your project stand out - especially for your portfolio!"
   ]
  },
  {
   "cell_type": "code",
   "execution_count": 26,
   "metadata": {},
   "outputs": [
    {
     "name": "stdout",
     "output_type": "stream",
     "text": [
      "The training accuracy is: \n",
      "71.62038449801648\n",
      " \n",
      "The test accuracy is: \n",
      "29.95117485505035\n",
      " \n",
      "Classification report\n",
      "                        precision    recall  f1-score   support\n",
      "\n",
      "               related       0.86      0.91      0.89      5023\n",
      "               request       0.77      0.63      0.69      1118\n",
      "                 offer       0.00      0.00      0.00        26\n",
      "           aid_related       0.74      0.70      0.72      2752\n",
      "          medical_help       0.58      0.28      0.38       505\n",
      "      medical_products       0.62      0.25      0.36       346\n",
      "     search_and_rescue       0.71      0.22      0.33       179\n",
      "              security       0.25      0.01      0.02       112\n",
      "              military       0.56      0.28      0.37       218\n",
      "                 water       0.78      0.62      0.69       463\n",
      "                  food       0.82      0.72      0.77       749\n",
      "               shelter       0.78      0.55      0.64       591\n",
      "              clothing       0.76      0.30      0.43        98\n",
      "                 money       0.62      0.20      0.30       159\n",
      "        missing_people       0.82      0.11      0.19        82\n",
      "              refugees       0.55      0.21      0.30       203\n",
      "                 death       0.81      0.52      0.63       301\n",
      "             other_aid       0.45      0.21      0.28       851\n",
      "infrastructure_related       0.39      0.10      0.16       429\n",
      "             transport       0.70      0.22      0.34       312\n",
      "             buildings       0.63      0.39      0.48       339\n",
      "           electricity       0.57      0.23      0.33       116\n",
      "                 tools       0.00      0.00      0.00        32\n",
      "             hospitals       0.00      0.00      0.00        64\n",
      "                 shops       0.00      0.00      0.00        33\n",
      "           aid_centers       0.25      0.01      0.03        70\n",
      "  other_infrastructure       0.32      0.05      0.09       304\n",
      "       weather_related       0.81      0.75      0.78      1797\n",
      "                floods       0.87      0.55      0.68       516\n",
      "                 storm       0.76      0.60      0.67       604\n",
      "                  fire       0.57      0.21      0.31        56\n",
      "            earthquake       0.90      0.75      0.82       635\n",
      "                  cold       0.72      0.36      0.49       137\n",
      "         other_weather       0.53      0.18      0.27       343\n",
      "         direct_report       0.68      0.54      0.60      1260\n",
      "\n",
      "             micro avg       0.78      0.61      0.68     20823\n",
      "             macro avg       0.58      0.33      0.40     20823\n",
      "          weighted avg       0.74      0.61      0.65     20823\n",
      "           samples avg       0.61      0.52      0.52     20823\n",
      "\n"
     ]
    }
   ],
   "source": [
    "# Training accuracy\n",
    "print(\"The training accuracy is: \")\n",
    "print(accuracy_score(y_train, best_tuned_clf.predict(X_train))*100)\n",
    "print(\" \")\n",
    "\n",
    "# Test accuracy\n",
    "print(\"The test accuracy is: \")\n",
    "print(accuracy_score(y_test, y_pred_tuned)*100)\n",
    "print(\" \")\n",
    "\n",
    "# Classification report\n",
    "print(\"Classification report\")\n",
    "print(classification_report(y_test, y_pred_tuned, target_names=y.columns.values))"
   ]
  },
  {
   "cell_type": "markdown",
   "metadata": {},
   "source": [
    "### 8. Try improving your model further. Here are a few ideas:\n",
    "* try other machine learning algorithms\n",
    "* add other features besides the TF-IDF"
   ]
  },
  {
   "cell_type": "code",
   "execution_count": 27,
   "metadata": {},
   "outputs": [
    {
     "name": "stdout",
     "output_type": "stream",
     "text": [
      "The training accuracy is: \n",
      "71.68141592920354\n",
      " \n",
      "The test accuracy is: \n",
      "29.98169057064388\n",
      " \n",
      "Classification report\n",
      "                        precision    recall  f1-score   support\n",
      "\n",
      "               related       0.86      0.91      0.89      5023\n",
      "               request       0.77      0.63      0.69      1118\n",
      "                 offer       0.00      0.00      0.00        26\n",
      "           aid_related       0.74      0.70      0.72      2752\n",
      "          medical_help       0.58      0.28      0.38       505\n",
      "      medical_products       0.62      0.25      0.36       346\n",
      "     search_and_rescue       0.70      0.21      0.33       179\n",
      "              security       0.40      0.02      0.03       112\n",
      "              military       0.56      0.28      0.37       218\n",
      "                 water       0.77      0.62      0.69       463\n",
      "                  food       0.82      0.72      0.77       749\n",
      "               shelter       0.78      0.55      0.65       591\n",
      "              clothing       0.75      0.31      0.43        98\n",
      "                 money       0.62      0.20      0.30       159\n",
      "        missing_people       0.82      0.11      0.19        82\n",
      "              refugees       0.55      0.20      0.29       203\n",
      "                 death       0.81      0.52      0.63       301\n",
      "             other_aid       0.45      0.21      0.28       851\n",
      "infrastructure_related       0.38      0.10      0.16       429\n",
      "             transport       0.70      0.22      0.34       312\n",
      "             buildings       0.63      0.39      0.48       339\n",
      "           electricity       0.57      0.23      0.33       116\n",
      "                 tools       0.00      0.00      0.00        32\n",
      "             hospitals       0.00      0.00      0.00        64\n",
      "                 shops       0.00      0.00      0.00        33\n",
      "           aid_centers       0.25      0.01      0.03        70\n",
      "  other_infrastructure       0.31      0.05      0.08       304\n",
      "       weather_related       0.81      0.75      0.78      1797\n",
      "                floods       0.87      0.55      0.68       516\n",
      "                 storm       0.76      0.61      0.67       604\n",
      "                  fire       0.57      0.21      0.31        56\n",
      "            earthquake       0.90      0.76      0.82       635\n",
      "                  cold       0.72      0.36      0.49       137\n",
      "         other_weather       0.53      0.18      0.27       343\n",
      "         direct_report       0.68      0.54      0.60      1260\n",
      "\n",
      "             micro avg       0.78      0.61      0.69     20823\n",
      "             macro avg       0.58      0.33      0.40     20823\n",
      "          weighted avg       0.74      0.61      0.65     20823\n",
      "           samples avg       0.61      0.52      0.52     20823\n",
      "\n"
     ]
    }
   ],
   "source": [
    "# Use pipeline2 which includes StartingVerbEstimator\n",
    "pipeline2.fit(X_train, y_train)\n",
    "\n",
    "y_pred_2 = pipeline2.predict(X_test)\n",
    "\n",
    "# Training accuracy\n",
    "print(\"The training accuracy is: \")\n",
    "print(accuracy_score(y_train, pipeline2.predict(X_train))*100)\n",
    "print(\" \")\n",
    "\n",
    "# Test accuracy\n",
    "print(\"The test accuracy is: \")\n",
    "print(accuracy_score(y_test, y_pred_2)*100)\n",
    "print(\" \")\n",
    "\n",
    "# Classification report\n",
    "print(\"Classification report\")\n",
    "print(classification_report(y_test, y_pred_2, target_names=y.columns.values))"
   ]
  },
  {
   "cell_type": "code",
   "execution_count": 28,
   "metadata": {},
   "outputs": [
    {
     "name": "stdout",
     "output_type": "stream",
     "text": [
      "The training accuracy is: \n",
      "99.76604618044959\n",
      " \n",
      "The test accuracy is: \n",
      "25.05340250228868\n",
      " \n",
      "Classification report\n",
      "                        precision    recall  f1-score   support\n",
      "\n",
      "               related       0.81      0.97      0.89      5023\n",
      "               request       0.88      0.43      0.58      1118\n",
      "                 offer       0.00      0.00      0.00        26\n",
      "           aid_related       0.79      0.61      0.69      2752\n",
      "          medical_help       0.60      0.04      0.07       505\n",
      "      medical_products       0.86      0.05      0.10       346\n",
      "     search_and_rescue       0.62      0.03      0.05       179\n",
      "              security       1.00      0.02      0.04       112\n",
      "              military       1.00      0.02      0.04       218\n",
      "                 water       0.96      0.20      0.33       463\n",
      "                  food       0.86      0.48      0.62       749\n",
      "               shelter       0.87      0.20      0.33       591\n",
      "              clothing       0.60      0.06      0.11        98\n",
      "                 money       0.83      0.03      0.06       159\n",
      "        missing_people       0.00      0.00      0.00        82\n",
      "              refugees       0.29      0.02      0.05       203\n",
      "                 death       0.97      0.11      0.20       301\n",
      "             other_aid       0.55      0.01      0.01       851\n",
      "infrastructure_related       0.25      0.00      0.00       429\n",
      "             transport       0.68      0.06      0.11       312\n",
      "             buildings       0.68      0.08      0.15       339\n",
      "           electricity       1.00      0.01      0.02       116\n",
      "                 tools       0.00      0.00      0.00        32\n",
      "             hospitals       0.00      0.00      0.00        64\n",
      "                 shops       0.00      0.00      0.00        33\n",
      "           aid_centers       0.00      0.00      0.00        70\n",
      "  other_infrastructure       0.33      0.01      0.01       304\n",
      "       weather_related       0.86      0.62      0.72      1797\n",
      "                floods       0.94      0.36      0.52       516\n",
      "                 storm       0.82      0.42      0.55       604\n",
      "                  fire       0.00      0.00      0.00        56\n",
      "            earthquake       0.91      0.74      0.82       635\n",
      "                  cold       0.75      0.04      0.08       137\n",
      "         other_weather       0.50      0.02      0.04       343\n",
      "         direct_report       0.84      0.35      0.49      1260\n",
      "\n",
      "             micro avg       0.83      0.49      0.62     20823\n",
      "             macro avg       0.60      0.17      0.22     20823\n",
      "          weighted avg       0.77      0.49      0.54     20823\n",
      "           samples avg       0.70      0.47      0.52     20823\n",
      "\n"
     ]
    }
   ],
   "source": [
    "# Use pipeline3 which includes StartingVerbEstimator\n",
    "pipeline3.fit(X_train, y_train)\n",
    "\n",
    "y_pred_3 = pipeline3.predict(X_test)\n",
    "\n",
    "# Training accuracy\n",
    "print(\"The training accuracy is: \")\n",
    "print(accuracy_score(y_train, pipeline3.predict(X_train))*100)\n",
    "print(\" \")\n",
    "\n",
    "# Test accuracy\n",
    "print(\"The test accuracy is: \")\n",
    "print(accuracy_score(y_test, y_pred_3)*100)\n",
    "print(\" \")\n",
    "\n",
    "# Classification report\n",
    "print(\"Classification report\")\n",
    "print(classification_report(y_test, y_pred_3, target_names=y.columns.values))"
   ]
  },
  {
   "cell_type": "markdown",
   "metadata": {},
   "source": [
    "### 9. Export your model as a pickle file"
   ]
  },
  {
   "cell_type": "code",
   "execution_count": 29,
   "metadata": {},
   "outputs": [],
   "source": [
    "saved_model = pickle.dumps(pipeline2)"
   ]
  },
  {
   "cell_type": "code",
   "execution_count": 30,
   "metadata": {},
   "outputs": [],
   "source": [
    "clf_from_pickle = pickle.loads(saved_model)"
   ]
  },
  {
   "cell_type": "code",
   "execution_count": 31,
   "metadata": {},
   "outputs": [
    {
     "data": {
      "text/plain": [
       "Pipeline(steps=[('features',\n",
       "                 FeatureUnion(transformer_list=[('text_pipeline',\n",
       "                                                 Pipeline(steps=[('vect',\n",
       "                                                                  CountVectorizer(tokenizer=<function tokenize at 0x2844f9790>)),\n",
       "                                                                 ('tfidf',\n",
       "                                                                  TfidfTransformer())])),\n",
       "                                                ('starting_verb_transformer',\n",
       "                                                 StartingVerbExtractor())])),\n",
       "                ('clf2',\n",
       "                 MultiOutputClassifier(estimator=LinearSVC(max_iter=100000,\n",
       "                                                           random_state=42)))])"
      ]
     },
     "execution_count": 31,
     "metadata": {},
     "output_type": "execute_result"
    }
   ],
   "source": [
    "clf_from_pickle"
   ]
  },
  {
   "cell_type": "markdown",
   "metadata": {},
   "source": [
    "### 10. Use this notebook to complete `train.py`\n",
    "Use the template file attached in the Resources folder to write a script that runs the steps above to create a database and export a model based on a new dataset specified by the user."
   ]
  },
  {
   "cell_type": "code",
   "execution_count": null,
   "metadata": {},
   "outputs": [],
   "source": []
  }
 ],
 "metadata": {
  "kernelspec": {
   "display_name": "Python 3 (ipykernel)",
   "language": "python",
   "name": "python3"
  },
  "language_info": {
   "codemirror_mode": {
    "name": "ipython",
    "version": 3
   },
   "file_extension": ".py",
   "mimetype": "text/x-python",
   "name": "python",
   "nbconvert_exporter": "python",
   "pygments_lexer": "ipython3",
   "version": "3.9.6"
  }
 },
 "nbformat": 4,
 "nbformat_minor": 4
}
